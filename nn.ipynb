{
 "cells": [
  {
   "cell_type": "code",
   "execution_count": 13,
   "metadata": {},
   "outputs": [],
   "source": [
    "import numpy as np\n",
    "import pandas as pd\n",
    "import seaborn as sns\n",
    "from sklearn.preprocessing import StandardScaler\n",
    "from sklearn.model_selection import train_test_split\n",
    "from sklearn.metrics import confusion_matrix"
   ]
  },
  {
   "cell_type": "code",
   "execution_count": 14,
   "metadata": {},
   "outputs": [],
   "source": [
    "df=pd.read_csv('heart.csv')\n"
   ]
  },
  {
   "cell_type": "code",
   "execution_count": 15,
   "metadata": {},
   "outputs": [],
   "source": [
    "X=np.array(df.loc[:, df.columns != 'output'])\n",
    "y=np.array(df['output'])"
   ]
  },
  {
   "cell_type": "markdown",
   "metadata": {},
   "source": [
    "TRAIN TEST SPLIT"
   ]
  },
  {
   "cell_type": "code",
   "execution_count": 16,
   "metadata": {},
   "outputs": [],
   "source": [
    "X_train,X_test,y_train,y_test = train_test_split(X,y,test_size=0.2,random_state=123)"
   ]
  },
  {
   "cell_type": "code",
   "execution_count": 17,
   "metadata": {},
   "outputs": [
    {
     "data": {
      "text/plain": [
       "((242, 13), (61, 13), (242,), (61,))"
      ]
     },
     "execution_count": 17,
     "metadata": {},
     "output_type": "execute_result"
    }
   ],
   "source": [
    "X_train.shape,X_test.shape,y_train.shape,y_test.shape"
   ]
  },
  {
   "cell_type": "code",
   "execution_count": 18,
   "metadata": {},
   "outputs": [],
   "source": [
    "scaler=StandardScaler()\n",
    "X_train_scale=scaler.fit_transform(X_train)\n",
    "X_test_scale=scaler.transform(X_test)"
   ]
  },
  {
   "cell_type": "markdown",
   "metadata": {},
   "source": [
    "NEURAL NETWORK "
   ]
  },
  {
   "cell_type": "code",
   "execution_count": 28,
   "metadata": {},
   "outputs": [],
   "source": [
    "class NeuralNetwork:\n",
    "    def __init__(self,LR,X_train,y_train,X_test,y_test):\n",
    "        self.w=np.random.randn(X_train.shape[1])\n",
    "        self.b=np.random.randn()\n",
    "        self.L_train=[] #losses for training\n",
    "        self.L_test=[] #losses for testing\n",
    "        self.LR=LR\n",
    "        self.X_train=X_train\n",
    "        self.y_train=y_train\n",
    "        self.X_test=X_test\n",
    "        self.y_test=y_test\n",
    "    \n",
    "    def activation(self,x):\n",
    "        #sigmoid activation\n",
    "        return 1 / (1+np.exp(-x))\n",
    "    \n",
    "    def dactivation(self,x):\n",
    "        #derivative of sigmoid\n",
    "        return self.activation(x) * (1-self.activation(x))\n",
    "    \n",
    "    def forward(self,X):\n",
    "        #forward pass\n",
    "        hidden_1=np.dot(X,self.w) + self.b\n",
    "        activate_1=self.activation(hidden_1)\n",
    "        return activate_1\n",
    "    \n",
    "    def backward(self,X,y_true):\n",
    "        #calculate gradients for backward pass\n",
    "        hidden_1=np.dot(X,self.w) + self.b\n",
    "        y_pred=self.forward(X)\n",
    "\n",
    "        dL_dpred=2*(y_pred-y_true)\n",
    "        dpred_dhidden1=self.dactivation(hidden_1)\n",
    "        dhidden1_db=1\n",
    "        dhidden1_dw=X\n",
    "\n",
    "        dL_db = dL_dpred * dpred_dhidden1 * dhidden1_db\n",
    "        dL_dw = dL_dpred * dpred_dhidden1 * dhidden1_dw\n",
    "\n",
    "        return dL_db,dL_dw\n",
    "    \n",
    "    def optimizer(self,dL_db,dL_dw):\n",
    "        #update weights\n",
    "        self.b = self.b - dL_db * self.LR\n",
    "        self.w = self.w - dL_dw * self.LR\n",
    "\n",
    "    def train(self,ITERATIONS):\n",
    "        #train model\n",
    "        for i in range(ITERATIONS):\n",
    "            #random position\n",
    "            random_pos=np.random.randint(len(self.X_train))\n",
    "\n",
    "            #forward pass\n",
    "            y_train_true=self.y_train[random_pos]\n",
    "            y_train_pred=self.forward(self.X_train[random_pos])\n",
    "\n",
    "            #calc training loss\n",
    "            L=np.sum(np.square(y_train_pred - y_train_true))\n",
    "            self.L_train.append(L)\n",
    "\n",
    "            #backward pass - calc gradients\n",
    "            dL_db,dL_dw = self.backward(\n",
    "                X=self.X_train[random_pos], y_true=self.y_train[random_pos]\n",
    "            )\n",
    "\n",
    "            #update weights\n",
    "            self.optimizer(dL_db,dL_dw)\n",
    "\n",
    "            #calc error at the end of each epoch\n",
    "            L_sum=0\n",
    "            for j in range(len(self.X_test)):\n",
    "                y_true=self.y_test[j]\n",
    "                y_pred=self.forward(self.X_test[j])\n",
    "                L_sum += np.square(y_pred-y_true)\n",
    "            self.L_test.append(L_sum)\n",
    "        return \"training completed successfully\"\n",
    "\n"
   ]
  },
  {
   "cell_type": "markdown",
   "metadata": {},
   "source": [
    "MODEL INSTANCE AND TRAINING"
   ]
  },
  {
   "cell_type": "code",
   "execution_count": 29,
   "metadata": {},
   "outputs": [
    {
     "data": {
      "text/plain": [
       "'training completed successfully'"
      ]
     },
     "execution_count": 29,
     "metadata": {},
     "output_type": "execute_result"
    }
   ],
   "source": [
    "LR=0.1\n",
    "ITERATIONS=1000\n",
    "\n",
    "nn=NeuralNetwork(LR=LR, X_train=X_train_scale, y_train=y_train, X_test=X_test_scale,y_test=y_test) #initialize neural network\n",
    "nn.train(ITERATIONS=ITERATIONS) #train Neural Network\n"
   ]
  },
  {
   "cell_type": "markdown",
   "metadata": {},
   "source": [
    "TEST DATA LOSS FUNCTION TREND OVER ITERATIONS"
   ]
  },
  {
   "cell_type": "code",
   "execution_count": 32,
   "metadata": {},
   "outputs": [
    {
     "data": {
      "text/plain": [
       "<AxesSubplot:>"
      ]
     },
     "execution_count": 32,
     "metadata": {},
     "output_type": "execute_result"
    },
    {
     "data": {
      "image/png": "[encoded data removed]",
      "text/plain": [
       "<Figure size 640x480 with 1 Axes>"
      ]
     },
     "metadata": {},
     "output_type": "display_data"
    }
   ],
   "source": [
    "sns.lineplot(x=list(range(len(nn.L_test))), y=nn.L_test)"
   ]
  },
  {
   "cell_type": "markdown",
   "metadata": {},
   "source": [
    "MODEL ACCURACY"
   ]
  },
  {
   "cell_type": "code",
   "execution_count": 39,
   "metadata": {},
   "outputs": [
    {
     "name": "stdout",
     "output_type": "stream",
     "text": [
      "0.7868852459016393\n"
     ]
    },
    {
     "data": {
      "text/plain": [
       "array([[24,  6],\n",
       "       [ 7, 24]], dtype=int64)"
      ]
     },
     "execution_count": 39,
     "metadata": {},
     "output_type": "execute_result"
    }
   ],
   "source": [
    "total=X_test_scale.shape[0]\n",
    "correct=0\n",
    "y_preds=[]\n",
    "for i in range(total):\n",
    "    y_true=y_test[i]\n",
    "    y_pred=np.round(nn.forward(X_test_scale[i]))\n",
    "    y_preds.append(y_pred)\n",
    "    correct += 1 if y_pred == y_true else 0\n",
    "acc=correct/total\n",
    "print(acc)\n",
    "confusion_matrix(y_true=y_test, y_pred=y_preds)"
   ]
  },
  {
   "cell_type": "code",
   "execution_count": null,
   "metadata": {},
   "outputs": [],
   "source": []
  }
 ],
 "metadata": {
  "kernelspec": {
   "display_name": "pytorch",
   "language": "python",
   "name": "python3"
  },
  "language_info": {
   "codemirror_mode": {
    "name": "ipython",
    "version": 3
   },
   "file_extension": ".py",
   "mimetype": "text/x-python",
   "name": "python",
   "nbconvert_exporter": "python",
   "pygments_lexer": "ipython3",
   "version": "3.10.4"
  }
 },
 "nbformat": 4,
 "nbformat_minor": 2
}
